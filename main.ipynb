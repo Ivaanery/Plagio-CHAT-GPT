{
 "cells": [
  {
   "cell_type": "code",
   "execution_count": null,
   "metadata": {},
   "outputs": [],
   "source": [
    "\n",
    "#Para identificar plagio de ChatGPT, puedes seguir los siguientes pasos:\n",
    "#Recopilar un conjunto de textos originales de ChatGPT y otro conjunto de textos sospechosos de ser plagio.\n",
    "#Preprocesar los textos para eliminar las palabras vacías, puntuaciones y caracteres especiales.\n",
    "#Crear una matriz de términos de documentos (DTM) a partir de los textos procesados. Esto implica contar la frecuencia de cada palabra en cada texto y representar los datos en una matriz.\n",
    "#Dividir los datos en conjuntos de entrenamiento y prueba.\n",
    "#Entrenar un modelo de clasificación, como un clasificador binario o un clasificador de varias clases, utilizando el conjunto de entrenamiento. Puedes usar diferentes algoritmos de aprendizaje automático, como SVM, Naive Bayes, Redes Neuronales, etc.\n",
    "#Evaluar el modelo utilizando el conjunto de prueba y medir la precisión, la sensibilidad y la especificidad.\n",
    "#Una vez que el modelo esté entrenado, puedes usarlo para identificar plagio de ChatGPT en textos nuevos.\n",
    "#Si un texto es etiquetado como plagio, se puede realizar una inspección manual para confirmar el plagio.\n",
    "#Si se confirma el plagio, se puede tomar medidas apropiadas para informar a las partes involucradas y tomar medidas disciplinarias si es necesario.\n",
    "#En resumen, el algoritmo implicaría recopilar y preprocesar los datos, crear una matriz de términos de documentos, entrenar un modelo de clasificación y usarlo para identificar el plagio de ChatGPT."
   ]
  },
  {
   "cell_type": "code",
   "execution_count": 57,
   "metadata": {},
   "outputs": [],
   "source": [
    "import os\n",
    "import csv\n",
    "import nltk\n",
    "from nltk.corpus import stopwords\n",
    "from nltk.tokenize import word_tokenize\n",
    "import string\n",
    "import pandas as pd\n",
    "import numpy as np\n",
    "import pickle\n",
    "import re"
   ]
  },
  {
   "cell_type": "code",
   "execution_count": 58,
   "metadata": {},
   "outputs": [],
   "source": [
    "csvCHATGPT = pd.read_csv(\"TextosCHATGPT2.csv\")"
   ]
  },
  {
   "cell_type": "code",
   "execution_count": 59,
   "metadata": {},
   "outputs": [
    {
     "data": {
      "text/html": [
       "<div>\n",
       "<style scoped>\n",
       "    .dataframe tbody tr th:only-of-type {\n",
       "        vertical-align: middle;\n",
       "    }\n",
       "\n",
       "    .dataframe tbody tr th {\n",
       "        vertical-align: top;\n",
       "    }\n",
       "\n",
       "    .dataframe thead th {\n",
       "        text-align: right;\n",
       "    }\n",
       "</style>\n",
       "<table border=\"1\" class=\"dataframe\">\n",
       "  <thead>\n",
       "    <tr style=\"text-align: right;\">\n",
       "      <th></th>\n",
       "      <th>Textos</th>\n",
       "    </tr>\n",
       "  </thead>\n",
       "  <tbody>\n",
       "    <tr>\n",
       "      <th>0</th>\n",
       "      <td>Los perros son animales domésticos populares e...</td>\n",
       "    </tr>\n",
       "    <tr>\n",
       "      <th>1</th>\n",
       "      <td>Los perros son animales fascinantes que han fo...</td>\n",
       "    </tr>\n",
       "    <tr>\n",
       "      <th>2</th>\n",
       "      <td>Los perros son animales increíbles que han est...</td>\n",
       "    </tr>\n",
       "    <tr>\n",
       "      <th>3</th>\n",
       "      <td>Los perros son mamíferos que pertenecen a la f...</td>\n",
       "    </tr>\n",
       "    <tr>\n",
       "      <th>4</th>\n",
       "      <td>Los perros son animales extraordinarios que ha...</td>\n",
       "    </tr>\n",
       "  </tbody>\n",
       "</table>\n",
       "</div>"
      ],
      "text/plain": [
       "                                              Textos\n",
       "0  Los perros son animales domésticos populares e...\n",
       "1  Los perros son animales fascinantes que han fo...\n",
       "2  Los perros son animales increíbles que han est...\n",
       "3  Los perros son mamíferos que pertenecen a la f...\n",
       "4  Los perros son animales extraordinarios que ha..."
      ]
     },
     "execution_count": 59,
     "metadata": {},
     "output_type": "execute_result"
    }
   ],
   "source": [
    "csvCHATGPT"
   ]
  },
  {
   "cell_type": "code",
   "execution_count": 60,
   "metadata": {},
   "outputs": [
    {
     "name": "stdout",
     "output_type": "stream",
     "text": [
      "<class 'pandas.core.frame.DataFrame'>\n",
      "RangeIndex: 5 entries, 0 to 4\n",
      "Data columns (total 1 columns):\n",
      " #   Column  Non-Null Count  Dtype \n",
      "---  ------  --------------  ----- \n",
      " 0   Textos  5 non-null      object\n",
      "dtypes: object(1)\n",
      "memory usage: 168.0+ bytes\n"
     ]
    }
   ],
   "source": [
    "csvCHATGPT.info()"
   ]
  },
  {
   "cell_type": "code",
   "execution_count": 61,
   "metadata": {},
   "outputs": [],
   "source": [
    "texto_columna = csvCHATGPT['Textos']"
   ]
  },
  {
   "cell_type": "code",
   "execution_count": 62,
   "metadata": {},
   "outputs": [
    {
     "name": "stderr",
     "output_type": "stream",
     "text": [
      "C:\\Users\\ivaan\\AppData\\Roaming\\Python\\Python37\\site-packages\\ipykernel_launcher.py:1: FutureWarning: The default value of regex will change from True to False in a future version.\n",
      "  \"\"\"Entry point for launching an IPython kernel.\n"
     ]
    }
   ],
   "source": [
    "texto_limpio = texto_columna.str.replace('[^\\w\\s]','')"
   ]
  },
  {
   "cell_type": "code",
   "execution_count": 63,
   "metadata": {},
   "outputs": [],
   "source": [
    "texto_limpio = texto_limpio.str.lower()"
   ]
  },
  {
   "cell_type": "code",
   "execution_count": 64,
   "metadata": {},
   "outputs": [],
   "source": [
    "texto_limpio = texto_limpio.str.strip()"
   ]
  },
  {
   "cell_type": "code",
   "execution_count": 65,
   "metadata": {},
   "outputs": [],
   "source": [
    "csvCHATGPT['Textos'] = texto_limpio"
   ]
  },
  {
   "cell_type": "code",
   "execution_count": 66,
   "metadata": {},
   "outputs": [
    {
     "data": {
      "text/html": [
       "<div>\n",
       "<style scoped>\n",
       "    .dataframe tbody tr th:only-of-type {\n",
       "        vertical-align: middle;\n",
       "    }\n",
       "\n",
       "    .dataframe tbody tr th {\n",
       "        vertical-align: top;\n",
       "    }\n",
       "\n",
       "    .dataframe thead th {\n",
       "        text-align: right;\n",
       "    }\n",
       "</style>\n",
       "<table border=\"1\" class=\"dataframe\">\n",
       "  <thead>\n",
       "    <tr style=\"text-align: right;\">\n",
       "      <th></th>\n",
       "      <th>Textos</th>\n",
       "    </tr>\n",
       "  </thead>\n",
       "  <tbody>\n",
       "    <tr>\n",
       "      <th>0</th>\n",
       "      <td>los perros son animales domésticos populares e...</td>\n",
       "    </tr>\n",
       "    <tr>\n",
       "      <th>1</th>\n",
       "      <td>los perros son animales fascinantes que han fo...</td>\n",
       "    </tr>\n",
       "    <tr>\n",
       "      <th>2</th>\n",
       "      <td>los perros son animales increíbles que han est...</td>\n",
       "    </tr>\n",
       "    <tr>\n",
       "      <th>3</th>\n",
       "      <td>los perros son mamíferos que pertenecen a la f...</td>\n",
       "    </tr>\n",
       "    <tr>\n",
       "      <th>4</th>\n",
       "      <td>los perros son animales extraordinarios que ha...</td>\n",
       "    </tr>\n",
       "  </tbody>\n",
       "</table>\n",
       "</div>"
      ],
      "text/plain": [
       "                                              Textos\n",
       "0  los perros son animales domésticos populares e...\n",
       "1  los perros son animales fascinantes que han fo...\n",
       "2  los perros son animales increíbles que han est...\n",
       "3  los perros son mamíferos que pertenecen a la f...\n",
       "4  los perros son animales extraordinarios que ha..."
      ]
     },
     "execution_count": 66,
     "metadata": {},
     "output_type": "execute_result"
    }
   ],
   "source": [
    "csvCHATGPT"
   ]
  },
  {
   "cell_type": "code",
   "execution_count": 67,
   "metadata": {},
   "outputs": [],
   "source": [
    "csvCHATGPT.to_csv('csvCHATGPT_limpios.csv', index=False)"
   ]
  },
  {
   "cell_type": "code",
   "execution_count": 70,
   "metadata": {},
   "outputs": [
    {
     "name": "stderr",
     "output_type": "stream",
     "text": [
      "[nltk_data] Downloading package punkt to\n",
      "[nltk_data]     C:\\Users\\ivaan\\AppData\\Roaming\\nltk_data...\n",
      "[nltk_data]   Package punkt is already up-to-date!\n",
      "[nltk_data] Downloading package stopwords to\n",
      "[nltk_data]     C:\\Users\\ivaan\\AppData\\Roaming\\nltk_data...\n",
      "[nltk_data]   Package stopwords is already up-to-date!\n"
     ]
    }
   ],
   "source": [
    "import csv\n",
    "import nltk\n",
    "nltk.download('punkt')\n",
    "import pandas as pd\n",
    "import nltk\n",
    "nltk.download('stopwords')\n",
    "from nltk.corpus import stopwords\n",
    "\n",
    "\n",
    "textos = []\n",
    "with open('csvCHATGPT_limpios.csv', newline='', encoding='utf-8') as csvfile:\n",
    "    reader = csv.reader(csvfile)\n",
    "    for row in reader:\n",
    "        textos.append(row[0])\n",
    "        tokenizados = []\n",
    "\n",
    "for texto in textos:\n",
    "    tokens = nltk.word_tokenize(texto)\n",
    "    tokenizados.append(tokens)\n",
    "\n",
    "with open('csvCHATGPT_tokenizado.csv', mode='w', newline='', encoding='utf-8') as csvfile:\n",
    "    writer = csv.writer(csvfile)\n",
    "    for tokens in tokenizados:\n",
    "        writer.writerow(tokens)\n",
    "\n",
    "#stop_words = set(stopwords.words(\"es\"))\n",
    "#Stop words\n",
    "#for texto in textos:\n",
    "#    texto = [word for word in texto if not word in nltk.corpus.stopwords.words('spanish')]\n",
    "    \n"
   ]
  },
  {
   "cell_type": "code",
   "execution_count": 69,
   "metadata": {},
   "outputs": [
    {
     "name": "stdout",
     "output_type": "stream",
     "text": [
      "[[0 0 0 ... 0 0 0]\n",
      " [0 0 0 ... 0 0 0]\n",
      " [0 0 1 ... 0 0 0]\n",
      " [1 1 0 ... 1 1 1]\n",
      " [0 0 0 ... 0 0 1]]\n"
     ]
    },
    {
     "name": "stderr",
     "output_type": "stream",
     "text": [
      "c:\\Users\\ivaan\\AppData\\Local\\Programs\\Python\\Python37\\lib\\site-packages\\sklearn\\utils\\deprecation.py:87: FutureWarning: Function get_feature_names is deprecated; get_feature_names is deprecated in 1.0 and will be removed in 1.2. Please use get_feature_names_out instead.\n",
      "  warnings.warn(msg, category=FutureWarning)\n"
     ]
    }
   ],
   "source": [
    "import pandas as pd\n",
    "from sklearn.feature_extraction.text import CountVectorizer\n",
    "\n",
    "# leer el archivo CSV en un DataFrame de Pandas\n",
    "dframe = pd.read_csv('csvCHATGPT_limpios.csv')\n",
    "\n",
    "# preprocesamiento de datos: convertir texto a minúsculas y eliminar signos de puntuación\n",
    "#df['texto'] = df['texto'].str.lower().str.replace('[^\\w\\s]', '')\n",
    "\n",
    "# crear la matriz de términos de documentos\n",
    "vectorizer = CountVectorizer()\n",
    "td_matrix = vectorizer.fit_transform(dframe['Textos'])\n",
    "\n",
    "# obtener la lista de términos (palabras)\n",
    "terms = vectorizer.get_feature_names()\n",
    "\n",
    "# imprimir la matriz de términos de documentos\n",
    "print(td_matrix.toarray())"
   ]
  },
  {
   "cell_type": "code",
   "execution_count": 73,
   "metadata": {},
   "outputs": [
    {
     "name": "stdout",
     "output_type": "stream",
     "text": [
      "Precisión en el conjunto de entrenamiento: 1.0\n",
      "Precisión en el conjunto de prueba: 0.5\n",
      "Porcentaje de plagio: 81.0 %\n"
     ]
    }
   ],
   "source": [
    "import pandas as pd\n",
    "from sklearn.model_selection import train_test_split\n",
    "from sklearn.feature_extraction.text import TfidfVectorizer\n",
    "from sklearn.svm import SVC\n",
    "from sklearn.metrics import accuracy_score\n",
    "from sklearn.ensemble import RandomForestClassifier\n",
    "\n",
    "\n",
    "# Cargar datos desde un archivo CSV\n",
    "textos = []\n",
    "with open('csvCHATGPT_limpios.csv', newline='', encoding='utf-8') as csvfile:\n",
    "    reader = csv.reader(csvfile)\n",
    "    for row in reader:\n",
    "        textos.append(row[0])\n",
    "\n",
    "# Abrir el archivo en modo lectura\n",
    "archivo = open('ejemplo.txt', 'r')\n",
    "# Leer el contenido del archivo y almacenarlo en una variable\n",
    "contenidotxt = archivo.read()\n",
    "# Imprimir el contenido\n",
    "#print(contenidotxt)\n",
    "\n",
    "# Crear un DataFrame para almacenar los datos\n",
    "df = pd.DataFrame({\"text\": textos, \"plagio\": [0]*len(textos)})\n",
    "df.loc[len(df)] = [contenidotxt, -1]\n",
    "\n",
    "# Separar los datos en conjunto de entrenamiento y prueba\n",
    "#train_data, test_data, train_labels, test_labels = train_test_split(df['plagio'], test_size=0.2, random_state=42)\n",
    "\n",
    "# Vectorizar los datos de texto\n",
    "vectorizer = TfidfVectorizer()\n",
    "train_vectors = vectorizer.fit_transform(df[\"text\"])\n",
    "#test_vectors = vectorizer.transform(test_data)\n",
    "\n",
    "# Entrenar un modelo SVM\n",
    "#model = SVC(kernel='linear')\n",
    "#model.fit(train_vectors, train_labels)\n",
    "# Entrenar el modelo de Random Forest\n",
    "\n",
    "# Dividir los datos en conjunto de entrenamiento y conjunto de prueba\n",
    "X_train, X_test, y_train, y_test = train_test_split(train_vectors, df[\"plagio\"], test_size=0.2, random_state=42)\n",
    "\n",
    "# Entrenar el modelo de Random Forest\n",
    "modelo = RandomForestClassifier(n_estimators=100)\n",
    "modelo.fit(X_train, y_train)\n",
    "\n",
    "# Predecir las etiquetas de los datos de prueba\n",
    "#predicted_labels = modelo.predict(test_vectors)\n",
    "\n",
    "# Calcular la precisión del modelo\n",
    "#accuracy = accuracy_score(test_labels, predicted_labels)\n",
    "#print('Precisión del modelo: {:.2f}'.format(accuracy))\n",
    "\n",
    "# Evaluar la precisión del modelo en el conjunto de entrenamiento y el conjunto de prueba\n",
    "y_train_pred = modelo.predict(X_train)\n",
    "y_test_pred = modelo.predict(X_test)\n",
    "train_accuracy = accuracy_score(y_train, y_train_pred)\n",
    "test_accuracy = accuracy_score(y_test, y_test_pred)\n",
    "print(\"Precisión en el conjunto de entrenamiento:\", train_accuracy)\n",
    "print(\"Precisión en el conjunto de prueba:\", test_accuracy)\n",
    "\n",
    "# Predecir la probabilidad de plagio del PDF a comparar\n",
    "prob_plagio = modelo.predict_proba(X_test)[-1][-1]\n",
    "\n",
    "# Calcular el porcentaje de plagio\n",
    "porcentaje_plagio = round(prob_plagio * 100, 2)\n",
    "\n",
    "# Imprimir el porcentaje de plagio\n",
    "print(\"Porcentaje de plagio:\", porcentaje_plagio, \"%\")"
   ]
  }
 ],
 "metadata": {
  "kernelspec": {
   "display_name": "Python 3",
   "language": "python",
   "name": "python3"
  },
  "language_info": {
   "codemirror_mode": {
    "name": "ipython",
    "version": 3
   },
   "file_extension": ".py",
   "mimetype": "text/x-python",
   "name": "python",
   "nbconvert_exporter": "python",
   "pygments_lexer": "ipython3",
   "version": "3.7.9"
  },
  "orig_nbformat": 4
 },
 "nbformat": 4,
 "nbformat_minor": 2
}
