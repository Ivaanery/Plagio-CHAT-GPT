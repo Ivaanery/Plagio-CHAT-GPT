{
 "cells": [
  {
   "cell_type": "code",
   "execution_count": null,
   "metadata": {},
   "outputs": [],
   "source": [
    "\n",
    "#Para identificar plagio de ChatGPT, puedes seguir los siguientes pasos:\n",
    "\n",
    "#Recopilar un conjunto de textos originales de ChatGPT y otro conjunto de textos sospechosos de ser plagio.\n",
    "\n",
    "#Preprocesar los textos para eliminar las palabras vacías, puntuaciones y caracteres especiales.\n",
    "\n",
    "#Crear una matriz de términos de documentos (DTM) a partir de los textos procesados. Esto implica contar la frecuencia de cada palabra en cada texto y representar los datos en una matriz.\n",
    "\n",
    "#Dividir los datos en conjuntos de entrenamiento y prueba.\n",
    "\n",
    "#Entrenar un modelo de clasificación, como un clasificador binario o un clasificador de varias clases, utilizando el conjunto de entrenamiento. Puedes usar diferentes algoritmos de aprendizaje automático, como SVM, Naive Bayes, Redes Neuronales, etc.\n",
    "\n",
    "#Evaluar el modelo utilizando el conjunto de prueba y medir la precisión, la sensibilidad y la especificidad.\n",
    "\n",
    "#Una vez que el modelo esté entrenado, puedes usarlo para identificar plagio de ChatGPT en textos nuevos.\n",
    "\n",
    "#Si un texto es etiquetado como plagio, se puede realizar una inspección manual para confirmar el plagio.\n",
    "\n",
    "#Si se confirma el plagio, se puede tomar medidas apropiadas para informar a las partes involucradas y tomar medidas disciplinarias si es necesario.\n",
    "\n",
    "#En resumen, el algoritmo implicaría recopilar y preprocesar los datos, crear una matriz de términos de documentos, entrenar un modelo de clasificación y usarlo para identificar el plagio de ChatGPT."
   ]
  },
  {
   "cell_type": "code",
   "execution_count": 10,
   "metadata": {},
   "outputs": [],
   "source": [
    "import os\n",
    "import csv\n",
    "import nltk\n",
    "from nltk.corpus import stopwords\n",
    "from nltk.tokenize import word_tokenize\n",
    "import string\n",
    "import pandas as pd\n",
    "import numpy as np\n",
    "import pickle\n",
    "import re"
   ]
  },
  {
   "cell_type": "code",
   "execution_count": 5,
   "metadata": {},
   "outputs": [],
   "source": [
    "textosCHATGPT   = pd.read_csv(\"TextosIA.csv\")"
   ]
  },
  {
   "cell_type": "code",
   "execution_count": 6,
   "metadata": {},
   "outputs": [
    {
     "data": {
      "text/html": [
       "<div>\n",
       "<style scoped>\n",
       "    .dataframe tbody tr th:only-of-type {\n",
       "        vertical-align: middle;\n",
       "    }\n",
       "\n",
       "    .dataframe tbody tr th {\n",
       "        vertical-align: top;\n",
       "    }\n",
       "\n",
       "    .dataframe thead th {\n",
       "        text-align: right;\n",
       "    }\n",
       "</style>\n",
       "<table border=\"1\" class=\"dataframe\">\n",
       "  <thead>\n",
       "    <tr style=\"text-align: right;\">\n",
       "      <th></th>\n",
       "      <th>Los perros son animales domésticos populares en todo el mundo. Son descendientes de los lobos y han sido criados selectivamente durante miles de años para crear diferentes razas con diversas características y habilidades.\\n\\nLos perros son conocidos por su lealtad y capacidad para formar fuertes vínculos con sus dueños. También pueden ser entrenados para realizar diversas tareas, como la protección, la caza, el pastoreo, el rescate y la detección de drogas y explosivos.\\n\\nAdemás de su valor como animales de compañía y trabajadores, los perros también brindan beneficios para la salud mental y física de las personas. Pueden reducir el estrés, la ansiedad y la depresión, y fomentar el ejercicio y la actividad social.\\n\\nSin embargo, tener un perro también conlleva responsabilidades, como brindarles cuidados adecuados, entrenamiento, atención veterinaria y una buena dieta. También es importante asegurarse de que los perros estén socializados y se manejen de manera segura en presencia de otros animales y personas.</th>\n",
       "      <th>Los perros son animales fascinantes que han formado una parte importante de la vida humana durante miles de años. Estos animales, que son descendientes de los lobos, han sido criados selectivamente para crear diferentes razas con una amplia variedad de características y habilidades. Además de ser mascotas populares en todo el mundo, los perros han sido entrenados para realizar diversas tareas, como la protección, la caza, el pastoreo, el rescate y la detección de drogas y explosivos.\\n\\nUna de las características más notables de los perros es su capacidad para formar vínculos estrechos y leales con los humanos. Los perros son conocidos por su lealtad y su disposición a trabajar en equipo con sus dueños. Esto ha llevado a muchos dueños de perros a considerarlos como parte de su familia. Los perros no solo brindan compañía, sino que también proporcionan una sensación de seguridad y confort emocional a sus dueños.\\n\\nAdemás de su valor como animales de compañía y trabajadores, los perros también brindan importantes beneficios para la salud mental y física de las personas. La compañía de un perro puede reducir el estrés, la ansiedad y la depresión, lo que a su vez puede mejorar la salud cardiovascular y reducir el riesgo de enfermedades crónicas. Los perros también pueden motivar a sus dueños a hacer más ejercicio y llevar un estilo de vida más activo.\\n\\nSin embargo, tener un perro también conlleva importantes responsabilidades. Es esencial que los dueños de perros brinden a sus mascotas los cuidados adecuados, como una buena dieta, atención veterinaria regular, entrenamiento y socialización adecuados. Los perros también necesitan ejercicio diario y estímulos mentales para mantenerse saludables y felices. Es importante que los dueños de perros también manejen a sus mascotas de manera segura en presencia de otros animales y personas.\\n\\nEn resumen, los perros son animales fascinantes que han formado una parte importante de la vida humana durante miles de años. Estos animales brindan compañía, seguridad y confort emocional a sus dueños, así como importantes beneficios para la salud mental y física. Sin embargo, tener un perro también conlleva importantes responsabilidades y es esencial que los dueños brinden a sus mascotas los cuidados adecuados para mantenerlos saludables y felices.</th>\n",
       "      <th>Los perros son animales increíbles que han estado al lado del ser humano por miles de años. Desde la antigüedad, han sido una fuente de compañía y protección para las personas, lo que ha llevado a una estrecha relación entre perros y humanos.\\n\\nUna de las cosas más sorprendentes de los perros es su capacidad para adaptarse a una amplia variedad de entornos y situaciones. Han sido criados selectivamente durante siglos para crear diferentes razas, cada una con su propia personalidad, tamaño y habilidades. Los perros pueden ser utilizados en una variedad de roles, como animales de compañía, animales de trabajo, animales de terapia, animales de rescate y animales de seguridad.\\n\\nLa lealtad es una de las características más notables de los perros. Son animales extremadamente leales y dedicados a sus dueños, y se han ganado la reputación de ser los mejores amigos del hombre. Los perros son conocidos por su capacidad para formar vínculos estrechos con sus dueños y para trabajar en equipo con ellos en una variedad de situaciones.\\n\\nAdemás de ser excelentes compañeros, los perros también pueden brindar importantes beneficios para la salud mental y física de las personas. El simple hecho de acariciar a un perro puede reducir el estrés y la ansiedad, y fomentar una sensación de calma y bienestar. Los perros también pueden motivar a sus dueños a hacer más ejercicio y llevar un estilo de vida más activo.\\n\\nA pesar de todos los beneficios que los perros brindan, también es importante recordar que tener un perro conlleva responsabilidades. Los dueños de perros deben proporcionar a sus mascotas una buena dieta, atención veterinaria regular, ejercicio y estímulos mentales adecuados. También es esencial que los perros se manejen de manera segura en presencia de otros animales y personas, lo que incluye la socialización y el entrenamiento adecuados.\\n\\nEn resumen, los perros son animales increíbles que han formado una parte importante de la vida humana durante miles de años. Son compañeros leales y dedicados, así como una fuente de beneficios para la salud mental y física. Sin embargo, tener un perro también conlleva importantes responsabilidades y es esencial que los dueños brinden a sus mascotas los cuidados adecuados para mantenerlos saludables y felices.</th>\n",
       "      <th>Los perros son mamíferos que pertenecen a la familia Canidae y son descendientes de los lobos. Han sido domesticados por los humanos desde hace más de 15,000 años y han sido criados selectivamente para crear diferentes razas con características y habilidades únicas. Actualmente, se estima que hay alrededor de 300 razas de perros reconocidas en todo el mundo.\\n\\nLos perros son animales sociales y se adaptan bien a vivir en grupos, ya sea con otros perros o con humanos. La mayoría de las razas de perros son amigables y están dispuestas a trabajar en equipo con sus dueños. Los perros también tienen un sentido agudo del olfato y de la audición, lo que los convierte en animales útiles para trabajos como la caza, el pastoreo, la detección de drogas y explosivos, y el rescate.\\n\\nAdemás de ser excelentes trabajadores, los perros son populares como mascotas en todo el mundo. Muchas personas disfrutan de la compañía de un perro y encuentran que brindan una sensación de seguridad y confort emocional. Los perros también brindan importantes beneficios para la salud mental y física de sus dueños, incluyendo la reducción del estrés y la ansiedad, y la motivación para llevar un estilo de vida más activo.\\n\\nEs importante recordar que tener un perro conlleva responsabilidades. Los dueños de perros deben proporcionar a sus mascotas una buena dieta, atención veterinaria regular, ejercicio y estímulos mentales adecuados. También es esencial que los perros se manejen de manera segura en presencia de otros animales y personas, lo que incluye la socialización y el entrenamiento adecuados.\\n\\nEn términos de anatomía, los perros tienen un cuerpo musculoso y una cabeza grande con un hocico alargado. Tienen dientes afilados y fuertes, diseñados para rasgar y morder la comida. Los perros tienen cuatro patas, cada una con garras afiladas que les permiten caminar y correr sobre una variedad de terrenos. Su pelaje puede ser de diferentes texturas y colores, y actúa como un aislante para mantenerlos calientes en climas fríos.\\n\\nEn resumen, los perros son animales fascinantes que han formado una parte importante de la vida humana durante miles de años. Son animales sociales y trabajadores que pueden adaptarse a una amplia variedad de entornos y situaciones. Los perros también brindan importantes beneficios para la salud mental y física de sus dueños, pero es esencial que los dueños brinden a sus mascotas los cuidados adecuados para mantenerlos saludables y felices.</th>\n",
       "      <th>Los perros son animales extraordinarios que han sido parte de la vida humana desde hace miles de años. Desde tiempos antiguos, los perros han sido valorados por su habilidad para cazar y proteger, pero hoy en día también son amados por ser fieles compañeros y excelentes mascotas.\\n\\nUna de las cosas más impresionantes acerca de los perros es su capacidad para adaptarse a diferentes situaciones y ambientes. Desde perros de trabajo como pastores y cazadores hasta perros de compañía que viven en apartamentos, los perros pueden ser entrenados y socializados para vivir en casi cualquier entorno.\\n\\nAdemás, los perros son animales extremadamente sociales. Son leales a sus dueños y forman vínculos emocionales fuertes con ellos. Incluso pueden aprender a trabajar en equipo con otros perros o animales, como caballos o gatos.\\n\\nOtra de las cualidades notables de los perros es su capacidad para aprender y adaptarse a diferentes tareas y trabajos. A lo largo de los siglos, los perros han sido entrenados para realizar una amplia variedad de trabajos, incluyendo la caza, la detección de drogas y explosivos, y el rescate en situaciones de emergencia.\\n\\nPero no solo son útiles en el trabajo, los perros también son increíblemente divertidos y cariñosos. Muchas personas disfrutan de la compañía de un perro como mascota y encuentran que brindan una gran cantidad de alegría y felicidad a sus vidas. Incluso se ha demostrado que tener un perro como mascota puede tener beneficios para la salud mental y física, como la reducción del estrés y la ansiedad, y la motivación para llevar un estilo de vida más activo.\\n\\nPor supuesto, ser dueño de un perro también conlleva responsabilidades. Los perros necesitan ejercicio diario, una dieta saludable y atención veterinaria regular para mantenerse saludables y felices. También es importante que los perros se socialicen y se entrenen adecuadamente para evitar problemas de comportamiento.\\n\\nEn resumen, los perros son animales maravillosos que han sido valorados por los seres humanos durante miles de años. Son animales sociales, trabajadores y leales que pueden adaptarse a casi cualquier entorno y tarea. Además, los perros brindan importantes beneficios para la salud y el bienestar de sus dueños, lo que los convierte en excelentes compañeros para la vida</th>\n",
       "    </tr>\n",
       "  </thead>\n",
       "  <tbody>\n",
       "  </tbody>\n",
       "</table>\n",
       "</div>"
      ],
      "text/plain": [
       "Empty DataFrame\n",
       "Columns: [Los perros son animales domésticos populares en todo el mundo. Son descendientes de los lobos y han sido criados selectivamente durante miles de años para crear diferentes razas con diversas características y habilidades.\n",
       "\n",
       "Los perros son conocidos por su lealtad y capacidad para formar fuertes vínculos con sus dueños. También pueden ser entrenados para realizar diversas tareas, como la protección, la caza, el pastoreo, el rescate y la detección de drogas y explosivos.\n",
       "\n",
       "Además de su valor como animales de compañía y trabajadores, los perros también brindan beneficios para la salud mental y física de las personas. Pueden reducir el estrés, la ansiedad y la depresión, y fomentar el ejercicio y la actividad social.\n",
       "\n",
       "Sin embargo, tener un perro también conlleva responsabilidades, como brindarles cuidados adecuados, entrenamiento, atención veterinaria y una buena dieta. También es importante asegurarse de que los perros estén socializados y se manejen de manera segura en presencia de otros animales y personas., Los perros son animales fascinantes que han formado una parte importante de la vida humana durante miles de años. Estos animales, que son descendientes de los lobos, han sido criados selectivamente para crear diferentes razas con una amplia variedad de características y habilidades. Además de ser mascotas populares en todo el mundo, los perros han sido entrenados para realizar diversas tareas, como la protección, la caza, el pastoreo, el rescate y la detección de drogas y explosivos.\n",
       "\n",
       "Una de las características más notables de los perros es su capacidad para formar vínculos estrechos y leales con los humanos. Los perros son conocidos por su lealtad y su disposición a trabajar en equipo con sus dueños. Esto ha llevado a muchos dueños de perros a considerarlos como parte de su familia. Los perros no solo brindan compañía, sino que también proporcionan una sensación de seguridad y confort emocional a sus dueños.\n",
       "\n",
       "Además de su valor como animales de compañía y trabajadores, los perros también brindan importantes beneficios para la salud mental y física de las personas. La compañía de un perro puede reducir el estrés, la ansiedad y la depresión, lo que a su vez puede mejorar la salud cardiovascular y reducir el riesgo de enfermedades crónicas. Los perros también pueden motivar a sus dueños a hacer más ejercicio y llevar un estilo de vida más activo.\n",
       "\n",
       "Sin embargo, tener un perro también conlleva importantes responsabilidades. Es esencial que los dueños de perros brinden a sus mascotas los cuidados adecuados, como una buena dieta, atención veterinaria regular, entrenamiento y socialización adecuados. Los perros también necesitan ejercicio diario y estímulos mentales para mantenerse saludables y felices. Es importante que los dueños de perros también manejen a sus mascotas de manera segura en presencia de otros animales y personas.\n",
       "\n",
       "En resumen, los perros son animales fascinantes que han formado una parte importante de la vida humana durante miles de años. Estos animales brindan compañía, seguridad y confort emocional a sus dueños, así como importantes beneficios para la salud mental y física. Sin embargo, tener un perro también conlleva importantes responsabilidades y es esencial que los dueños brinden a sus mascotas los cuidados adecuados para mantenerlos saludables y felices., Los perros son animales increíbles que han estado al lado del ser humano por miles de años. Desde la antigüedad, han sido una fuente de compañía y protección para las personas, lo que ha llevado a una estrecha relación entre perros y humanos.\n",
       "\n",
       "Una de las cosas más sorprendentes de los perros es su capacidad para adaptarse a una amplia variedad de entornos y situaciones. Han sido criados selectivamente durante siglos para crear diferentes razas, cada una con su propia personalidad, tamaño y habilidades. Los perros pueden ser utilizados en una variedad de roles, como animales de compañía, animales de trabajo, animales de terapia, animales de rescate y animales de seguridad.\n",
       "\n",
       "La lealtad es una de las características más notables de los perros. Son animales extremadamente leales y dedicados a sus dueños, y se han ganado la reputación de ser los mejores amigos del hombre. Los perros son conocidos por su capacidad para formar vínculos estrechos con sus dueños y para trabajar en equipo con ellos en una variedad de situaciones.\n",
       "\n",
       "Además de ser excelentes compañeros, los perros también pueden brindar importantes beneficios para la salud mental y física de las personas. El simple hecho de acariciar a un perro puede reducir el estrés y la ansiedad, y fomentar una sensación de calma y bienestar. Los perros también pueden motivar a sus dueños a hacer más ejercicio y llevar un estilo de vida más activo.\n",
       "\n",
       "A pesar de todos los beneficios que los perros brindan, también es importante recordar que tener un perro conlleva responsabilidades. Los dueños de perros deben proporcionar a sus mascotas una buena dieta, atención veterinaria regular, ejercicio y estímulos mentales adecuados. También es esencial que los perros se manejen de manera segura en presencia de otros animales y personas, lo que incluye la socialización y el entrenamiento adecuados.\n",
       "\n",
       "En resumen, los perros son animales increíbles que han formado una parte importante de la vida humana durante miles de años. Son compañeros leales y dedicados, así como una fuente de beneficios para la salud mental y física. Sin embargo, tener un perro también conlleva importantes responsabilidades y es esencial que los dueños brinden a sus mascotas los cuidados adecuados para mantenerlos saludables y felices., Los perros son mamíferos que pertenecen a la familia Canidae y son descendientes de los lobos. Han sido domesticados por los humanos desde hace más de 15,000 años y han sido criados selectivamente para crear diferentes razas con características y habilidades únicas. Actualmente, se estima que hay alrededor de 300 razas de perros reconocidas en todo el mundo.\n",
       "\n",
       "Los perros son animales sociales y se adaptan bien a vivir en grupos, ya sea con otros perros o con humanos. La mayoría de las razas de perros son amigables y están dispuestas a trabajar en equipo con sus dueños. Los perros también tienen un sentido agudo del olfato y de la audición, lo que los convierte en animales útiles para trabajos como la caza, el pastoreo, la detección de drogas y explosivos, y el rescate.\n",
       "\n",
       "Además de ser excelentes trabajadores, los perros son populares como mascotas en todo el mundo. Muchas personas disfrutan de la compañía de un perro y encuentran que brindan una sensación de seguridad y confort emocional. Los perros también brindan importantes beneficios para la salud mental y física de sus dueños, incluyendo la reducción del estrés y la ansiedad, y la motivación para llevar un estilo de vida más activo.\n",
       "\n",
       "Es importante recordar que tener un perro conlleva responsabilidades. Los dueños de perros deben proporcionar a sus mascotas una buena dieta, atención veterinaria regular, ejercicio y estímulos mentales adecuados. También es esencial que los perros se manejen de manera segura en presencia de otros animales y personas, lo que incluye la socialización y el entrenamiento adecuados.\n",
       "\n",
       "En términos de anatomía, los perros tienen un cuerpo musculoso y una cabeza grande con un hocico alargado. Tienen dientes afilados y fuertes, diseñados para rasgar y morder la comida. Los perros tienen cuatro patas, cada una con garras afiladas que les permiten caminar y correr sobre una variedad de terrenos. Su pelaje puede ser de diferentes texturas y colores, y actúa como un aislante para mantenerlos calientes en climas fríos.\n",
       "\n",
       "En resumen, los perros son animales fascinantes que han formado una parte importante de la vida humana durante miles de años. Son animales sociales y trabajadores que pueden adaptarse a una amplia variedad de entornos y situaciones. Los perros también brindan importantes beneficios para la salud mental y física de sus dueños, pero es esencial que los dueños brinden a sus mascotas los cuidados adecuados para mantenerlos saludables y felices., Los perros son animales extraordinarios que han sido parte de la vida humana desde hace miles de años. Desde tiempos antiguos, los perros han sido valorados por su habilidad para cazar y proteger, pero hoy en día también son amados por ser fieles compañeros y excelentes mascotas.\n",
       "\n",
       "Una de las cosas más impresionantes acerca de los perros es su capacidad para adaptarse a diferentes situaciones y ambientes. Desde perros de trabajo como pastores y cazadores hasta perros de compañía que viven en apartamentos, los perros pueden ser entrenados y socializados para vivir en casi cualquier entorno.\n",
       "\n",
       "Además, los perros son animales extremadamente sociales. Son leales a sus dueños y forman vínculos emocionales fuertes con ellos. Incluso pueden aprender a trabajar en equipo con otros perros o animales, como caballos o gatos.\n",
       "\n",
       "Otra de las cualidades notables de los perros es su capacidad para aprender y adaptarse a diferentes tareas y trabajos. A lo largo de los siglos, los perros han sido entrenados para realizar una amplia variedad de trabajos, incluyendo la caza, la detección de drogas y explosivos, y el rescate en situaciones de emergencia.\n",
       "\n",
       "Pero no solo son útiles en el trabajo, los perros también son increíblemente divertidos y cariñosos. Muchas personas disfrutan de la compañía de un perro como mascota y encuentran que brindan una gran cantidad de alegría y felicidad a sus vidas. Incluso se ha demostrado que tener un perro como mascota puede tener beneficios para la salud mental y física, como la reducción del estrés y la ansiedad, y la motivación para llevar un estilo de vida más activo.\n",
       "\n",
       "Por supuesto, ser dueño de un perro también conlleva responsabilidades. Los perros necesitan ejercicio diario, una dieta saludable y atención veterinaria regular para mantenerse saludables y felices. También es importante que los perros se socialicen y se entrenen adecuadamente para evitar problemas de comportamiento.\n",
       "\n",
       "En resumen, los perros son animales maravillosos que han sido valorados por los seres humanos durante miles de años. Son animales sociales, trabajadores y leales que pueden adaptarse a casi cualquier entorno y tarea. Además, los perros brindan importantes beneficios para la salud y el bienestar de sus dueños, lo que los convierte en excelentes compañeros para la vida]\n",
       "Index: []"
      ]
     },
     "execution_count": 6,
     "metadata": {},
     "output_type": "execute_result"
    }
   ],
   "source": [
    "textosCHATGPT"
   ]
  },
  {
   "cell_type": "code",
   "execution_count": 7,
   "metadata": {},
   "outputs": [
    {
     "name": "stdout",
     "output_type": "stream",
     "text": [
      "<class 'pandas.core.frame.DataFrame'>\n",
      "Index: 0 entries\n",
      "Data columns (total 5 columns):\n",
      " #   Column                                                                                                                                                                                                                                                                                                                                                                                                                                                                                                                                                                                                                                                                                                                                                                                                                                                                                                                                                                                                                                                                                                                                                                                                                                                                                                                                                                                                                                                                                                                                                                                                                                                                                                                                                                                                                                                                                                                                                                                                                                                                                                                                                                                                                                                                                                                                                                                                                                                                                                                                                                Non-Null Count  Dtype \n",
      "---  ------                                                                                                                                                                                                                                                                                                                                                                                                                                                                                                                                                                                                                                                                                                                                                                                                                                                                                                                                                                                                                                                                                                                                                                                                                                                                                                                                                                                                                                                                                                                                                                                                                                                                                                                                                                                                                                                                                                                                                                                                                                                                                                                                                                                                                                                                                                                                                                                                                                                                                                                                                                --------------  ----- \n",
      " 0   Los perros son animales domésticos populares en todo el mundo. Son descendientes de los lobos y han sido criados selectivamente durante miles de años para crear diferentes razas con diversas características y habilidades.\n",
      "\n",
      "Los perros son conocidos por su lealtad y capacidad para formar fuertes vínculos con sus dueños. También pueden ser entrenados para realizar diversas tareas, como la protección, la caza, el pastoreo, el rescate y la detección de drogas y explosivos.\n",
      "\n",
      "Además de su valor como animales de compañía y trabajadores, los perros también brindan beneficios para la salud mental y física de las personas. Pueden reducir el estrés, la ansiedad y la depresión, y fomentar el ejercicio y la actividad social.\n",
      "\n",
      "Sin embargo, tener un perro también conlleva responsabilidades, como brindarles cuidados adecuados, entrenamiento, atención veterinaria y una buena dieta. También es importante asegurarse de que los perros estén socializados y se manejen de manera segura en presencia de otros animales y personas.                                                                                                                                                                                                                                                                                                                                                                                                                                                                                                                                                                                                                                                                                                                                                                                                                                                                                                                                                                                                                                                                                                                                                                                                                                                                                                                                                                                                                                                                                                           0 non-null      object\n",
      " 1   Los perros son animales fascinantes que han formado una parte importante de la vida humana durante miles de años. Estos animales, que son descendientes de los lobos, han sido criados selectivamente para crear diferentes razas con una amplia variedad de características y habilidades. Además de ser mascotas populares en todo el mundo, los perros han sido entrenados para realizar diversas tareas, como la protección, la caza, el pastoreo, el rescate y la detección de drogas y explosivos.\n",
      "\n",
      "Una de las características más notables de los perros es su capacidad para formar vínculos estrechos y leales con los humanos. Los perros son conocidos por su lealtad y su disposición a trabajar en equipo con sus dueños. Esto ha llevado a muchos dueños de perros a considerarlos como parte de su familia. Los perros no solo brindan compañía, sino que también proporcionan una sensación de seguridad y confort emocional a sus dueños.\n",
      "\n",
      "Además de su valor como animales de compañía y trabajadores, los perros también brindan importantes beneficios para la salud mental y física de las personas. La compañía de un perro puede reducir el estrés, la ansiedad y la depresión, lo que a su vez puede mejorar la salud cardiovascular y reducir el riesgo de enfermedades crónicas. Los perros también pueden motivar a sus dueños a hacer más ejercicio y llevar un estilo de vida más activo.\n",
      "\n",
      "Sin embargo, tener un perro también conlleva importantes responsabilidades. Es esencial que los dueños de perros brinden a sus mascotas los cuidados adecuados, como una buena dieta, atención veterinaria regular, entrenamiento y socialización adecuados. Los perros también necesitan ejercicio diario y estímulos mentales para mantenerse saludables y felices. Es importante que los dueños de perros también manejen a sus mascotas de manera segura en presencia de otros animales y personas.\n",
      "\n",
      "En resumen, los perros son animales fascinantes que han formado una parte importante de la vida humana durante miles de años. Estos animales brindan compañía, seguridad y confort emocional a sus dueños, así como importantes beneficios para la salud mental y física. Sin embargo, tener un perro también conlleva importantes responsabilidades y es esencial que los dueños brinden a sus mascotas los cuidados adecuados para mantenerlos saludables y felices.                                                                                                                                                               0 non-null      object\n",
      " 2   Los perros son animales increíbles que han estado al lado del ser humano por miles de años. Desde la antigüedad, han sido una fuente de compañía y protección para las personas, lo que ha llevado a una estrecha relación entre perros y humanos.\n",
      "\n",
      "Una de las cosas más sorprendentes de los perros es su capacidad para adaptarse a una amplia variedad de entornos y situaciones. Han sido criados selectivamente durante siglos para crear diferentes razas, cada una con su propia personalidad, tamaño y habilidades. Los perros pueden ser utilizados en una variedad de roles, como animales de compañía, animales de trabajo, animales de terapia, animales de rescate y animales de seguridad.\n",
      "\n",
      "La lealtad es una de las características más notables de los perros. Son animales extremadamente leales y dedicados a sus dueños, y se han ganado la reputación de ser los mejores amigos del hombre. Los perros son conocidos por su capacidad para formar vínculos estrechos con sus dueños y para trabajar en equipo con ellos en una variedad de situaciones.\n",
      "\n",
      "Además de ser excelentes compañeros, los perros también pueden brindar importantes beneficios para la salud mental y física de las personas. El simple hecho de acariciar a un perro puede reducir el estrés y la ansiedad, y fomentar una sensación de calma y bienestar. Los perros también pueden motivar a sus dueños a hacer más ejercicio y llevar un estilo de vida más activo.\n",
      "\n",
      "A pesar de todos los beneficios que los perros brindan, también es importante recordar que tener un perro conlleva responsabilidades. Los dueños de perros deben proporcionar a sus mascotas una buena dieta, atención veterinaria regular, ejercicio y estímulos mentales adecuados. También es esencial que los perros se manejen de manera segura en presencia de otros animales y personas, lo que incluye la socialización y el entrenamiento adecuados.\n",
      "\n",
      "En resumen, los perros son animales increíbles que han formado una parte importante de la vida humana durante miles de años. Son compañeros leales y dedicados, así como una fuente de beneficios para la salud mental y física. Sin embargo, tener un perro también conlleva importantes responsabilidades y es esencial que los dueños brinden a sus mascotas los cuidados adecuados para mantenerlos saludables y felices.                                                                                                                                                                                                     0 non-null      object\n",
      " 3   Los perros son mamíferos que pertenecen a la familia Canidae y son descendientes de los lobos. Han sido domesticados por los humanos desde hace más de 15,000 años y han sido criados selectivamente para crear diferentes razas con características y habilidades únicas. Actualmente, se estima que hay alrededor de 300 razas de perros reconocidas en todo el mundo.\n",
      "\n",
      "Los perros son animales sociales y se adaptan bien a vivir en grupos, ya sea con otros perros o con humanos. La mayoría de las razas de perros son amigables y están dispuestas a trabajar en equipo con sus dueños. Los perros también tienen un sentido agudo del olfato y de la audición, lo que los convierte en animales útiles para trabajos como la caza, el pastoreo, la detección de drogas y explosivos, y el rescate.\n",
      "\n",
      "Además de ser excelentes trabajadores, los perros son populares como mascotas en todo el mundo. Muchas personas disfrutan de la compañía de un perro y encuentran que brindan una sensación de seguridad y confort emocional. Los perros también brindan importantes beneficios para la salud mental y física de sus dueños, incluyendo la reducción del estrés y la ansiedad, y la motivación para llevar un estilo de vida más activo.\n",
      "\n",
      "Es importante recordar que tener un perro conlleva responsabilidades. Los dueños de perros deben proporcionar a sus mascotas una buena dieta, atención veterinaria regular, ejercicio y estímulos mentales adecuados. También es esencial que los perros se manejen de manera segura en presencia de otros animales y personas, lo que incluye la socialización y el entrenamiento adecuados.\n",
      "\n",
      "En términos de anatomía, los perros tienen un cuerpo musculoso y una cabeza grande con un hocico alargado. Tienen dientes afilados y fuertes, diseñados para rasgar y morder la comida. Los perros tienen cuatro patas, cada una con garras afiladas que les permiten caminar y correr sobre una variedad de terrenos. Su pelaje puede ser de diferentes texturas y colores, y actúa como un aislante para mantenerlos calientes en climas fríos.\n",
      "\n",
      "En resumen, los perros son animales fascinantes que han formado una parte importante de la vida humana durante miles de años. Son animales sociales y trabajadores que pueden adaptarse a una amplia variedad de entornos y situaciones. Los perros también brindan importantes beneficios para la salud mental y física de sus dueños, pero es esencial que los dueños brinden a sus mascotas los cuidados adecuados para mantenerlos saludables y felices.  0 non-null      object\n",
      " 4   Los perros son animales extraordinarios que han sido parte de la vida humana desde hace miles de años. Desde tiempos antiguos, los perros han sido valorados por su habilidad para cazar y proteger, pero hoy en día también son amados por ser fieles compañeros y excelentes mascotas.\n",
      "\n",
      "Una de las cosas más impresionantes acerca de los perros es su capacidad para adaptarse a diferentes situaciones y ambientes. Desde perros de trabajo como pastores y cazadores hasta perros de compañía que viven en apartamentos, los perros pueden ser entrenados y socializados para vivir en casi cualquier entorno.\n",
      "\n",
      "Además, los perros son animales extremadamente sociales. Son leales a sus dueños y forman vínculos emocionales fuertes con ellos. Incluso pueden aprender a trabajar en equipo con otros perros o animales, como caballos o gatos.\n",
      "\n",
      "Otra de las cualidades notables de los perros es su capacidad para aprender y adaptarse a diferentes tareas y trabajos. A lo largo de los siglos, los perros han sido entrenados para realizar una amplia variedad de trabajos, incluyendo la caza, la detección de drogas y explosivos, y el rescate en situaciones de emergencia.\n",
      "\n",
      "Pero no solo son útiles en el trabajo, los perros también son increíblemente divertidos y cariñosos. Muchas personas disfrutan de la compañía de un perro como mascota y encuentran que brindan una gran cantidad de alegría y felicidad a sus vidas. Incluso se ha demostrado que tener un perro como mascota puede tener beneficios para la salud mental y física, como la reducción del estrés y la ansiedad, y la motivación para llevar un estilo de vida más activo.\n",
      "\n",
      "Por supuesto, ser dueño de un perro también conlleva responsabilidades. Los perros necesitan ejercicio diario, una dieta saludable y atención veterinaria regular para mantenerse saludables y felices. También es importante que los perros se socialicen y se entrenen adecuadamente para evitar problemas de comportamiento.\n",
      "\n",
      "En resumen, los perros son animales maravillosos que han sido valorados por los seres humanos durante miles de años. Son animales sociales, trabajadores y leales que pueden adaptarse a casi cualquier entorno y tarea. Además, los perros brindan importantes beneficios para la salud y el bienestar de sus dueños, lo que los convierte en excelentes compañeros para la vida                                                                                                                                                                          0 non-null      object\n",
      "dtypes: object(5)\n",
      "memory usage: 0.0+ bytes\n"
     ]
    }
   ],
   "source": [
    "textosCHATGPT.info()"
   ]
  },
  {
   "cell_type": "code",
   "execution_count": 3,
   "metadata": {},
   "outputs": [
    {
     "ename": "LookupError",
     "evalue": "\n**********************************************************************\n  Resource \u001b[93mstopwords\u001b[0m not found.\n  Please use the NLTK Downloader to obtain the resource:\n\n  \u001b[31m>>> import nltk\n  >>> nltk.download('stopwords')\n  \u001b[0m\n  For more information see: https://www.nltk.org/data.html\n\n  Attempted to load \u001b[93mcorpora/stopwords\u001b[0m\n\n  Searched in:\n    - 'C:\\\\Users\\\\ivaan/nltk_data'\n    - 'c:\\\\Users\\\\ivaan\\\\AppData\\\\Local\\\\Programs\\\\Python\\\\Python37\\\\nltk_data'\n    - 'c:\\\\Users\\\\ivaan\\\\AppData\\\\Local\\\\Programs\\\\Python\\\\Python37\\\\share\\\\nltk_data'\n    - 'c:\\\\Users\\\\ivaan\\\\AppData\\\\Local\\\\Programs\\\\Python\\\\Python37\\\\lib\\\\nltk_data'\n    - 'C:\\\\Users\\\\ivaan\\\\AppData\\\\Roaming\\\\nltk_data'\n    - 'C:\\\\nltk_data'\n    - 'D:\\\\nltk_data'\n    - 'E:\\\\nltk_data'\n**********************************************************************\n",
     "output_type": "error",
     "traceback": [
      "\u001b[1;31m---------------------------------------------------------------------------\u001b[0m",
      "\u001b[1;31mLookupError\u001b[0m                               Traceback (most recent call last)",
      "\u001b[1;32mc:\\Users\\ivaan\\AppData\\Local\\Programs\\Python\\Python37\\lib\\site-packages\\nltk\\corpus\\util.py\u001b[0m in \u001b[0;36m__load\u001b[1;34m(self)\u001b[0m\n\u001b[0;32m     83\u001b[0m                 \u001b[1;32mtry\u001b[0m\u001b[1;33m:\u001b[0m\u001b[1;33m\u001b[0m\u001b[1;33m\u001b[0m\u001b[0m\n\u001b[1;32m---> 84\u001b[1;33m                     \u001b[0mroot\u001b[0m \u001b[1;33m=\u001b[0m \u001b[0mnltk\u001b[0m\u001b[1;33m.\u001b[0m\u001b[0mdata\u001b[0m\u001b[1;33m.\u001b[0m\u001b[0mfind\u001b[0m\u001b[1;33m(\u001b[0m\u001b[1;34mf\"{self.subdir}/{zip_name}\"\u001b[0m\u001b[1;33m)\u001b[0m\u001b[1;33m\u001b[0m\u001b[1;33m\u001b[0m\u001b[0m\n\u001b[0m\u001b[0;32m     85\u001b[0m                 \u001b[1;32mexcept\u001b[0m \u001b[0mLookupError\u001b[0m\u001b[1;33m:\u001b[0m\u001b[1;33m\u001b[0m\u001b[1;33m\u001b[0m\u001b[0m\n",
      "\u001b[1;32mc:\\Users\\ivaan\\AppData\\Local\\Programs\\Python\\Python37\\lib\\site-packages\\nltk\\data.py\u001b[0m in \u001b[0;36mfind\u001b[1;34m(resource_name, paths)\u001b[0m\n\u001b[0;32m    582\u001b[0m     \u001b[0mresource_not_found\u001b[0m \u001b[1;33m=\u001b[0m \u001b[1;34mf\"\\n{sep}\\n{msg}\\n{sep}\\n\"\u001b[0m\u001b[1;33m\u001b[0m\u001b[1;33m\u001b[0m\u001b[0m\n\u001b[1;32m--> 583\u001b[1;33m     \u001b[1;32mraise\u001b[0m \u001b[0mLookupError\u001b[0m\u001b[1;33m(\u001b[0m\u001b[0mresource_not_found\u001b[0m\u001b[1;33m)\u001b[0m\u001b[1;33m\u001b[0m\u001b[1;33m\u001b[0m\u001b[0m\n\u001b[0m\u001b[0;32m    584\u001b[0m \u001b[1;33m\u001b[0m\u001b[0m\n",
      "\u001b[1;31mLookupError\u001b[0m: \n**********************************************************************\n  Resource \u001b[93mstopwords\u001b[0m not found.\n  Please use the NLTK Downloader to obtain the resource:\n\n  \u001b[31m>>> import nltk\n  >>> nltk.download('stopwords')\n  \u001b[0m\n  For more information see: https://www.nltk.org/data.html\n\n  Attempted to load \u001b[93mcorpora/stopwords.zip/stopwords/\u001b[0m\n\n  Searched in:\n    - 'C:\\\\Users\\\\ivaan/nltk_data'\n    - 'c:\\\\Users\\\\ivaan\\\\AppData\\\\Local\\\\Programs\\\\Python\\\\Python37\\\\nltk_data'\n    - 'c:\\\\Users\\\\ivaan\\\\AppData\\\\Local\\\\Programs\\\\Python\\\\Python37\\\\share\\\\nltk_data'\n    - 'c:\\\\Users\\\\ivaan\\\\AppData\\\\Local\\\\Programs\\\\Python\\\\Python37\\\\lib\\\\nltk_data'\n    - 'C:\\\\Users\\\\ivaan\\\\AppData\\\\Roaming\\\\nltk_data'\n    - 'C:\\\\nltk_data'\n    - 'D:\\\\nltk_data'\n    - 'E:\\\\nltk_data'\n**********************************************************************\n",
      "\nDuring handling of the above exception, another exception occurred:\n",
      "\u001b[1;31mLookupError\u001b[0m                               Traceback (most recent call last)",
      "\u001b[1;32m~\\AppData\\Local\\Temp\\ipykernel_20192\\3931626181.py\u001b[0m in \u001b[0;36m<module>\u001b[1;34m\u001b[0m\n\u001b[0;32m     12\u001b[0m             \u001b[0mwords\u001b[0m \u001b[1;33m=\u001b[0m \u001b[0mnltk\u001b[0m\u001b[1;33m.\u001b[0m\u001b[0mword_tokenize\u001b[0m\u001b[1;33m(\u001b[0m\u001b[0mcolumn\u001b[0m\u001b[1;33m)\u001b[0m\u001b[1;33m\u001b[0m\u001b[1;33m\u001b[0m\u001b[0m\n\u001b[0;32m     13\u001b[0m             \u001b[1;31m# Eliminación de stopwords\u001b[0m\u001b[1;33m\u001b[0m\u001b[1;33m\u001b[0m\u001b[1;33m\u001b[0m\u001b[0m\n\u001b[1;32m---> 14\u001b[1;33m             \u001b[0mwords\u001b[0m \u001b[1;33m=\u001b[0m \u001b[1;33m[\u001b[0m\u001b[0mword\u001b[0m \u001b[1;32mfor\u001b[0m \u001b[0mword\u001b[0m \u001b[1;32min\u001b[0m \u001b[0mwords\u001b[0m \u001b[1;32mif\u001b[0m \u001b[1;32mnot\u001b[0m \u001b[0mword\u001b[0m \u001b[1;32min\u001b[0m \u001b[0mnltk\u001b[0m\u001b[1;33m.\u001b[0m\u001b[0mcorpus\u001b[0m\u001b[1;33m.\u001b[0m\u001b[0mstopwords\u001b[0m\u001b[1;33m.\u001b[0m\u001b[0mwords\u001b[0m\u001b[1;33m(\u001b[0m\u001b[1;34m'español'\u001b[0m\u001b[1;33m)\u001b[0m\u001b[1;33m]\u001b[0m\u001b[1;33m\u001b[0m\u001b[1;33m\u001b[0m\u001b[0m\n\u001b[0m\u001b[0;32m     15\u001b[0m             \u001b[1;31m# Stemming\u001b[0m\u001b[1;33m\u001b[0m\u001b[1;33m\u001b[0m\u001b[1;33m\u001b[0m\u001b[0m\n\u001b[0;32m     16\u001b[0m             \u001b[0mstemmer\u001b[0m \u001b[1;33m=\u001b[0m \u001b[0mnltk\u001b[0m\u001b[1;33m.\u001b[0m\u001b[0mstem\u001b[0m\u001b[1;33m.\u001b[0m\u001b[0msnowball\u001b[0m\u001b[1;33m.\u001b[0m\u001b[0mSpanishStemmer\u001b[0m\u001b[1;33m(\u001b[0m\u001b[1;33m)\u001b[0m\u001b[1;33m\u001b[0m\u001b[1;33m\u001b[0m\u001b[0m\n",
      "\u001b[1;32m~\\AppData\\Local\\Temp\\ipykernel_20192\\3931626181.py\u001b[0m in \u001b[0;36m<listcomp>\u001b[1;34m(.0)\u001b[0m\n\u001b[0;32m     12\u001b[0m             \u001b[0mwords\u001b[0m \u001b[1;33m=\u001b[0m \u001b[0mnltk\u001b[0m\u001b[1;33m.\u001b[0m\u001b[0mword_tokenize\u001b[0m\u001b[1;33m(\u001b[0m\u001b[0mcolumn\u001b[0m\u001b[1;33m)\u001b[0m\u001b[1;33m\u001b[0m\u001b[1;33m\u001b[0m\u001b[0m\n\u001b[0;32m     13\u001b[0m             \u001b[1;31m# Eliminación de stopwords\u001b[0m\u001b[1;33m\u001b[0m\u001b[1;33m\u001b[0m\u001b[1;33m\u001b[0m\u001b[0m\n\u001b[1;32m---> 14\u001b[1;33m             \u001b[0mwords\u001b[0m \u001b[1;33m=\u001b[0m \u001b[1;33m[\u001b[0m\u001b[0mword\u001b[0m \u001b[1;32mfor\u001b[0m \u001b[0mword\u001b[0m \u001b[1;32min\u001b[0m \u001b[0mwords\u001b[0m \u001b[1;32mif\u001b[0m \u001b[1;32mnot\u001b[0m \u001b[0mword\u001b[0m \u001b[1;32min\u001b[0m \u001b[0mnltk\u001b[0m\u001b[1;33m.\u001b[0m\u001b[0mcorpus\u001b[0m\u001b[1;33m.\u001b[0m\u001b[0mstopwords\u001b[0m\u001b[1;33m.\u001b[0m\u001b[0mwords\u001b[0m\u001b[1;33m(\u001b[0m\u001b[1;34m'español'\u001b[0m\u001b[1;33m)\u001b[0m\u001b[1;33m]\u001b[0m\u001b[1;33m\u001b[0m\u001b[1;33m\u001b[0m\u001b[0m\n\u001b[0m\u001b[0;32m     15\u001b[0m             \u001b[1;31m# Stemming\u001b[0m\u001b[1;33m\u001b[0m\u001b[1;33m\u001b[0m\u001b[1;33m\u001b[0m\u001b[0m\n\u001b[0;32m     16\u001b[0m             \u001b[0mstemmer\u001b[0m \u001b[1;33m=\u001b[0m \u001b[0mnltk\u001b[0m\u001b[1;33m.\u001b[0m\u001b[0mstem\u001b[0m\u001b[1;33m.\u001b[0m\u001b[0msnowball\u001b[0m\u001b[1;33m.\u001b[0m\u001b[0mSpanishStemmer\u001b[0m\u001b[1;33m(\u001b[0m\u001b[1;33m)\u001b[0m\u001b[1;33m\u001b[0m\u001b[1;33m\u001b[0m\u001b[0m\n",
      "\u001b[1;32mc:\\Users\\ivaan\\AppData\\Local\\Programs\\Python\\Python37\\lib\\site-packages\\nltk\\corpus\\util.py\u001b[0m in \u001b[0;36m__getattr__\u001b[1;34m(self, attr)\u001b[0m\n\u001b[0;32m    119\u001b[0m             \u001b[1;32mraise\u001b[0m \u001b[0mAttributeError\u001b[0m\u001b[1;33m(\u001b[0m\u001b[1;34m\"LazyCorpusLoader object has no attribute '__bases__'\"\u001b[0m\u001b[1;33m)\u001b[0m\u001b[1;33m\u001b[0m\u001b[1;33m\u001b[0m\u001b[0m\n\u001b[0;32m    120\u001b[0m \u001b[1;33m\u001b[0m\u001b[0m\n\u001b[1;32m--> 121\u001b[1;33m         \u001b[0mself\u001b[0m\u001b[1;33m.\u001b[0m\u001b[0m__load\u001b[0m\u001b[1;33m(\u001b[0m\u001b[1;33m)\u001b[0m\u001b[1;33m\u001b[0m\u001b[1;33m\u001b[0m\u001b[0m\n\u001b[0m\u001b[0;32m    122\u001b[0m         \u001b[1;31m# This looks circular, but its not, since __load() changes our\u001b[0m\u001b[1;33m\u001b[0m\u001b[1;33m\u001b[0m\u001b[1;33m\u001b[0m\u001b[0m\n\u001b[0;32m    123\u001b[0m         \u001b[1;31m# __class__ to something new:\u001b[0m\u001b[1;33m\u001b[0m\u001b[1;33m\u001b[0m\u001b[1;33m\u001b[0m\u001b[0m\n",
      "\u001b[1;32mc:\\Users\\ivaan\\AppData\\Local\\Programs\\Python\\Python37\\lib\\site-packages\\nltk\\corpus\\util.py\u001b[0m in \u001b[0;36m__load\u001b[1;34m(self)\u001b[0m\n\u001b[0;32m     84\u001b[0m                     \u001b[0mroot\u001b[0m \u001b[1;33m=\u001b[0m \u001b[0mnltk\u001b[0m\u001b[1;33m.\u001b[0m\u001b[0mdata\u001b[0m\u001b[1;33m.\u001b[0m\u001b[0mfind\u001b[0m\u001b[1;33m(\u001b[0m\u001b[1;34mf\"{self.subdir}/{zip_name}\"\u001b[0m\u001b[1;33m)\u001b[0m\u001b[1;33m\u001b[0m\u001b[1;33m\u001b[0m\u001b[0m\n\u001b[0;32m     85\u001b[0m                 \u001b[1;32mexcept\u001b[0m \u001b[0mLookupError\u001b[0m\u001b[1;33m:\u001b[0m\u001b[1;33m\u001b[0m\u001b[1;33m\u001b[0m\u001b[0m\n\u001b[1;32m---> 86\u001b[1;33m                     \u001b[1;32mraise\u001b[0m \u001b[0me\u001b[0m\u001b[1;33m\u001b[0m\u001b[1;33m\u001b[0m\u001b[0m\n\u001b[0m\u001b[0;32m     87\u001b[0m \u001b[1;33m\u001b[0m\u001b[0m\n\u001b[0;32m     88\u001b[0m         \u001b[1;31m# Load the corpus.\u001b[0m\u001b[1;33m\u001b[0m\u001b[1;33m\u001b[0m\u001b[1;33m\u001b[0m\u001b[0m\n",
      "\u001b[1;32mc:\\Users\\ivaan\\AppData\\Local\\Programs\\Python\\Python37\\lib\\site-packages\\nltk\\corpus\\util.py\u001b[0m in \u001b[0;36m__load\u001b[1;34m(self)\u001b[0m\n\u001b[0;32m     79\u001b[0m         \u001b[1;32melse\u001b[0m\u001b[1;33m:\u001b[0m\u001b[1;33m\u001b[0m\u001b[1;33m\u001b[0m\u001b[0m\n\u001b[0;32m     80\u001b[0m             \u001b[1;32mtry\u001b[0m\u001b[1;33m:\u001b[0m\u001b[1;33m\u001b[0m\u001b[1;33m\u001b[0m\u001b[0m\n\u001b[1;32m---> 81\u001b[1;33m                 \u001b[0mroot\u001b[0m \u001b[1;33m=\u001b[0m \u001b[0mnltk\u001b[0m\u001b[1;33m.\u001b[0m\u001b[0mdata\u001b[0m\u001b[1;33m.\u001b[0m\u001b[0mfind\u001b[0m\u001b[1;33m(\u001b[0m\u001b[1;34mf\"{self.subdir}/{self.__name}\"\u001b[0m\u001b[1;33m)\u001b[0m\u001b[1;33m\u001b[0m\u001b[1;33m\u001b[0m\u001b[0m\n\u001b[0m\u001b[0;32m     82\u001b[0m             \u001b[1;32mexcept\u001b[0m \u001b[0mLookupError\u001b[0m \u001b[1;32mas\u001b[0m \u001b[0me\u001b[0m\u001b[1;33m:\u001b[0m\u001b[1;33m\u001b[0m\u001b[1;33m\u001b[0m\u001b[0m\n\u001b[0;32m     83\u001b[0m                 \u001b[1;32mtry\u001b[0m\u001b[1;33m:\u001b[0m\u001b[1;33m\u001b[0m\u001b[1;33m\u001b[0m\u001b[0m\n",
      "\u001b[1;32mc:\\Users\\ivaan\\AppData\\Local\\Programs\\Python\\Python37\\lib\\site-packages\\nltk\\data.py\u001b[0m in \u001b[0;36mfind\u001b[1;34m(resource_name, paths)\u001b[0m\n\u001b[0;32m    581\u001b[0m     \u001b[0msep\u001b[0m \u001b[1;33m=\u001b[0m \u001b[1;34m\"*\"\u001b[0m \u001b[1;33m*\u001b[0m \u001b[1;36m70\u001b[0m\u001b[1;33m\u001b[0m\u001b[1;33m\u001b[0m\u001b[0m\n\u001b[0;32m    582\u001b[0m     \u001b[0mresource_not_found\u001b[0m \u001b[1;33m=\u001b[0m \u001b[1;34mf\"\\n{sep}\\n{msg}\\n{sep}\\n\"\u001b[0m\u001b[1;33m\u001b[0m\u001b[1;33m\u001b[0m\u001b[0m\n\u001b[1;32m--> 583\u001b[1;33m     \u001b[1;32mraise\u001b[0m \u001b[0mLookupError\u001b[0m\u001b[1;33m(\u001b[0m\u001b[0mresource_not_found\u001b[0m\u001b[1;33m)\u001b[0m\u001b[1;33m\u001b[0m\u001b[1;33m\u001b[0m\u001b[0m\n\u001b[0m\u001b[0;32m    584\u001b[0m \u001b[1;33m\u001b[0m\u001b[0m\n\u001b[0;32m    585\u001b[0m \u001b[1;33m\u001b[0m\u001b[0m\n",
      "\u001b[1;31mLookupError\u001b[0m: \n**********************************************************************\n  Resource \u001b[93mstopwords\u001b[0m not found.\n  Please use the NLTK Downloader to obtain the resource:\n\n  \u001b[31m>>> import nltk\n  >>> nltk.download('stopwords')\n  \u001b[0m\n  For more information see: https://www.nltk.org/data.html\n\n  Attempted to load \u001b[93mcorpora/stopwords\u001b[0m\n\n  Searched in:\n    - 'C:\\\\Users\\\\ivaan/nltk_data'\n    - 'c:\\\\Users\\\\ivaan\\\\AppData\\\\Local\\\\Programs\\\\Python\\\\Python37\\\\nltk_data'\n    - 'c:\\\\Users\\\\ivaan\\\\AppData\\\\Local\\\\Programs\\\\Python\\\\Python37\\\\share\\\\nltk_data'\n    - 'c:\\\\Users\\\\ivaan\\\\AppData\\\\Local\\\\Programs\\\\Python\\\\Python37\\\\lib\\\\nltk_data'\n    - 'C:\\\\Users\\\\ivaan\\\\AppData\\\\Roaming\\\\nltk_data'\n    - 'C:\\\\nltk_data'\n    - 'D:\\\\nltk_data'\n    - 'E:\\\\nltk_data'\n**********************************************************************\n"
     ]
    }
   ],
   "source": [
    "import csv\n",
    "import nltk\n",
    "\n",
    "# Cargar el archivo CSV\n",
    "with open('TextosIA.csv', newline='') as csvfile:\n",
    "    reader = csv.reader(csvfile, delimiter='.', quotechar='\"')\n",
    "    # Recorrer cada fila del archivo CSV\n",
    "    for row in reader:\n",
    "        # Procesar el texto de cada columna utilizando NLTK\n",
    "        for column in row:\n",
    "            # Tokenización de palabras\n",
    "            words = nltk.word_tokenize(column)\n",
    "            # Eliminación de stopwords\n",
    "            words = [word for word in words if not word in nltk.corpus.stopwords.words('spanish')]\n",
    "            # Stemming\n",
    "            stemmer = nltk.stem.snowball.SpanishStemmer()\n",
    "            words = [stemmer.stem(word) for word in words]\n",
    "            # Lematización\n",
    "            lemmatizer = nltk.stem.WordNetLemmatizer()\n",
    "            words = [lemmatizer.lemmatize(word) for word in words]\n",
    "            # Análisis de sentimiento\n",
    "            sentiment = nltk.sentiment.vader.SentimentIntensityAnalyzer().polarity_scores(column)\n",
    "            # Imprimir resultados\n",
    "            print(words)\n",
    "            print(sentiment)"
   ]
  },
  {
   "cell_type": "code",
   "execution_count": 11,
   "metadata": {},
   "outputs": [],
   "source": [
    "with open ('TextoIA1.txt', 'r', encoding='utf-8') as texto1:\n",
    "    textoIA1 = texto1.read()\n",
    "with open ('TextoIA2.txt', 'r', encoding='utf-8') as texto2:\n",
    "    textoIA2 = texto2.read()\n",
    "with open ('TextoIA3.txt', 'r', encoding='utf-8') as texto3:\n",
    "    textoIA3 = texto3.read()\n",
    "with open ('TextoIA4.txt', 'r', encoding='utf-8') as texto4:\n",
    "    textoIA4 = texto4.read()\n",
    "with open ('TextoIA5.txt', 'r', encoding='utf-8') as texto5:\n",
    "    textoIA5 = texto5.read()\n",
    "                        "
   ]
  },
  {
   "cell_type": "code",
   "execution_count": 5,
   "metadata": {},
   "outputs": [
    {
     "name": "stdout",
     "output_type": "stream",
     "text": [
      "Los perros son animales domésticos populares en todo el mundo. Son descendientes de los lobos y han sido criados selectivamente durante miles de años para crear diferentes razas con diversas características y habilidades.\n",
      "\n",
      "Los perros son conocidos por su lealtad y capacidad para formar fuertes vínculos con sus dueños. También pueden ser entrenados para realizar diversas tareas, como la protección, la caza, el pastoreo, el rescate y la detección de drogas y explosivos.\n",
      "\n",
      "Además de su valor como animales de compañía y trabajadores, los perros también brindan beneficios para la salud mental y física de las personas. Pueden reducir el estrés, la ansiedad y la depresión, y fomentar el ejercicio y la actividad social.\n",
      "\n",
      "Sin embargo, tener un perro también conlleva responsabilidades, como brindarles cuidados adecuados, entrenamiento, atención veterinaria y una buena dieta. También es importante asegurarse de que los perros estén socializados y se manejen de manera segura en presencia de otros animales y personas.\n"
     ]
    }
   ],
   "source": [
    "print(textoIA1)"
   ]
  },
  {
   "cell_type": "code",
   "execution_count": 12,
   "metadata": {},
   "outputs": [],
   "source": [
    "siglas=['TextoIA1', 'TextoIA2', 'TextoIA3', 'TextoIA4, TextoIA5']"
   ]
  },
  {
   "cell_type": "code",
   "execution_count": 14,
   "metadata": {},
   "outputs": [
    {
     "ename": "ValueError",
     "evalue": "invalid literal for int() with base 10: 'os perros son animales domésticos populares en todo el mundo. Son descendientes de los lobos y han sido criados selectivamente durante miles de años para crear diferentes razas con diversas caracter'",
     "output_type": "error",
     "traceback": [
      "\u001b[1;31m---------------------------------------------------------------------------\u001b[0m",
      "\u001b[1;31mValueError\u001b[0m                                Traceback (most recent call last)",
      "\u001b[1;32m~\\AppData\\Local\\Temp\\ipykernel_20192\\908157037.py\u001b[0m in \u001b[0;36m<module>\u001b[1;34m\u001b[0m\n\u001b[0;32m      3\u001b[0m \u001b[1;32mfor\u001b[0m \u001b[0mi\u001b[0m\u001b[1;33m,\u001b[0m \u001b[0ms\u001b[0m \u001b[1;32min\u001b[0m \u001b[0menumerate\u001b[0m\u001b[1;33m(\u001b[0m\u001b[0msiglas\u001b[0m\u001b[1;33m)\u001b[0m\u001b[1;33m:\u001b[0m\u001b[1;33m\u001b[0m\u001b[1;33m\u001b[0m\u001b[0m\n\u001b[0;32m      4\u001b[0m     \u001b[1;32mwith\u001b[0m \u001b[0mopen\u001b[0m \u001b[1;33m(\u001b[0m\u001b[1;34m\"\"\u001b[0m\u001b[1;33m+\u001b[0m\u001b[0ms\u001b[0m\u001b[1;33m+\u001b[0m\u001b[1;34m\".txt\"\u001b[0m\u001b[1;33m,\u001b[0m \u001b[1;34m'rb'\u001b[0m\u001b[1;33m)\u001b[0m \u001b[1;32mas\u001b[0m \u001b[0mfile\u001b[0m\u001b[1;33m:\u001b[0m\u001b[1;33m\u001b[0m\u001b[1;33m\u001b[0m\u001b[0m\n\u001b[1;32m----> 5\u001b[1;33m         \u001b[0mdata\u001b[0m\u001b[1;33m[\u001b[0m\u001b[0ms\u001b[0m\u001b[1;33m]\u001b[0m \u001b[1;33m=\u001b[0m \u001b[0mpickle\u001b[0m\u001b[1;33m.\u001b[0m\u001b[0mload\u001b[0m\u001b[1;33m(\u001b[0m\u001b[0mfile\u001b[0m\u001b[1;33m)\u001b[0m\u001b[1;33m\u001b[0m\u001b[1;33m\u001b[0m\u001b[0m\n\u001b[0m",
      "\u001b[1;31mValueError\u001b[0m: invalid literal for int() with base 10: 'os perros son animales domésticos populares en todo el mundo. Son descendientes de los lobos y han sido criados selectivamente durante miles de años para crear diferentes razas con diversas caracter'"
     ]
    }
   ],
   "source": [
    "data = {}\n",
    "\n",
    "for i, s in enumerate(siglas):\n",
    "    with open (\"\"+s+\".txt\", 'rb') as file:\n",
    "        data[s] = pickle.load(file)"
   ]
  }
 ],
 "metadata": {
  "kernelspec": {
   "display_name": "Python 3",
   "language": "python",
   "name": "python3"
  },
  "language_info": {
   "codemirror_mode": {
    "name": "ipython",
    "version": 3
   },
   "file_extension": ".py",
   "mimetype": "text/x-python",
   "name": "python",
   "nbconvert_exporter": "python",
   "pygments_lexer": "ipython3",
   "version": "3.7.9"
  },
  "orig_nbformat": 4
 },
 "nbformat": 4,
 "nbformat_minor": 2
}
